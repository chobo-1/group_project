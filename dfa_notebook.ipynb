{
  "cells": [
    {
      "cell_type": "markdown",
      "metadata": {
        "id": "wDojxJ9TRRMd"
      },
      "source": [
        "<h1>Pre-University Computer Science</h1>\n",
        "<h2>Tutorial: Introduction to Finite Automata</h2>"
      ]
    },
    {
      "cell_type": "markdown",
      "metadata": {
        "id": "WGv90LdSRRMf"
      },
      "source": [
        "<link rel=\"stylesheet\" href=\"https://stackpath.bootstrapcdn.com/bootstrap/4.5.2/css/bootstrap.min.css\">\n",
        "\n",
        "<div class=\"alert alert-warning\" role=\"alert\">\n",
        "  <h5 class=\"alert-heading\">Install Prerequisites</h5>\n",
        "  <p>Run the below codeblocks to install required Python libraries used in this notebook.</p>\n",
        "  <p>The `pygraphviz` and prereqsuisite `graphviz-dev` are used for visualising the DFA/NFAs. However, the rest of the exercises should be possible without these</p>\n",
        "</div>"
      ]
    },
    {
      "cell_type": "code",
      "execution_count": 1,
      "metadata": {
        "id": "OYMPWBmyRRMg",
        "colab": {
          "base_uri": "https://localhost:8080/"
        },
        "outputId": "44b357f4-9b5f-472e-ddfa-53993713ee3e"
      },
      "outputs": [
        {
          "output_type": "stream",
          "name": "stdout",
          "text": [
            "Reading package lists... Done\n",
            "Building dependency tree... Done\n",
            "Reading state information... Done\n",
            "Note, selecting 'libgraphviz-dev' instead of 'graphviz-dev'\n",
            "The following additional packages will be installed:\n",
            "  libgail-common libgail18 libgtk2.0-0 libgtk2.0-bin libgtk2.0-common\n",
            "  libgvc6-plugins-gtk librsvg2-common libxdot4\n",
            "Suggested packages:\n",
            "  gvfs\n",
            "The following NEW packages will be installed:\n",
            "  libgail-common libgail18 libgraphviz-dev libgtk2.0-0 libgtk2.0-bin\n",
            "  libgtk2.0-common libgvc6-plugins-gtk librsvg2-common libxdot4\n",
            "0 upgraded, 9 newly installed, 0 to remove and 35 not upgraded.\n",
            "Need to get 2,434 kB of archives.\n",
            "After this operation, 7,681 kB of additional disk space will be used.\n",
            "Get:1 http://archive.ubuntu.com/ubuntu jammy-updates/main amd64 libgtk2.0-common all 2.24.33-2ubuntu2.1 [125 kB]\n",
            "Get:2 http://archive.ubuntu.com/ubuntu jammy-updates/main amd64 libgtk2.0-0 amd64 2.24.33-2ubuntu2.1 [2,038 kB]\n",
            "Get:3 http://archive.ubuntu.com/ubuntu jammy-updates/main amd64 libgail18 amd64 2.24.33-2ubuntu2.1 [15.9 kB]\n",
            "Get:4 http://archive.ubuntu.com/ubuntu jammy-updates/main amd64 libgail-common amd64 2.24.33-2ubuntu2.1 [132 kB]\n",
            "Get:5 http://archive.ubuntu.com/ubuntu jammy-updates/universe amd64 libxdot4 amd64 2.42.2-6ubuntu0.1 [16.4 kB]\n",
            "Get:6 http://archive.ubuntu.com/ubuntu jammy-updates/universe amd64 libgvc6-plugins-gtk amd64 2.42.2-6ubuntu0.1 [22.5 kB]\n",
            "Get:7 http://archive.ubuntu.com/ubuntu jammy-updates/universe amd64 libgraphviz-dev amd64 2.42.2-6ubuntu0.1 [58.5 kB]\n",
            "Get:8 http://archive.ubuntu.com/ubuntu jammy-updates/main amd64 libgtk2.0-bin amd64 2.24.33-2ubuntu2.1 [7,936 B]\n",
            "Get:9 http://archive.ubuntu.com/ubuntu jammy-updates/main amd64 librsvg2-common amd64 2.52.5+dfsg-3ubuntu0.2 [17.7 kB]\n",
            "Fetched 2,434 kB in 1s (2,229 kB/s)\n",
            "debconf: unable to initialize frontend: Dialog\n",
            "debconf: (No usable dialog-like program is installed, so the dialog based frontend cannot be used. at /usr/share/perl5/Debconf/FrontEnd/Dialog.pm line 78, <> line 9.)\n",
            "debconf: falling back to frontend: Readline\n",
            "debconf: unable to initialize frontend: Readline\n",
            "debconf: (This frontend requires a controlling tty.)\n",
            "debconf: falling back to frontend: Teletype\n",
            "dpkg-preconfigure: unable to re-open stdin: \n",
            "Selecting previously unselected package libgtk2.0-common.\n",
            "(Reading database ... 126281 files and directories currently installed.)\n",
            "Preparing to unpack .../0-libgtk2.0-common_2.24.33-2ubuntu2.1_all.deb ...\n",
            "Unpacking libgtk2.0-common (2.24.33-2ubuntu2.1) ...\n",
            "Selecting previously unselected package libgtk2.0-0:amd64.\n",
            "Preparing to unpack .../1-libgtk2.0-0_2.24.33-2ubuntu2.1_amd64.deb ...\n",
            "Unpacking libgtk2.0-0:amd64 (2.24.33-2ubuntu2.1) ...\n",
            "Selecting previously unselected package libgail18:amd64.\n",
            "Preparing to unpack .../2-libgail18_2.24.33-2ubuntu2.1_amd64.deb ...\n",
            "Unpacking libgail18:amd64 (2.24.33-2ubuntu2.1) ...\n",
            "Selecting previously unselected package libgail-common:amd64.\n",
            "Preparing to unpack .../3-libgail-common_2.24.33-2ubuntu2.1_amd64.deb ...\n",
            "Unpacking libgail-common:amd64 (2.24.33-2ubuntu2.1) ...\n",
            "Selecting previously unselected package libxdot4:amd64.\n",
            "Preparing to unpack .../4-libxdot4_2.42.2-6ubuntu0.1_amd64.deb ...\n",
            "Unpacking libxdot4:amd64 (2.42.2-6ubuntu0.1) ...\n",
            "Selecting previously unselected package libgvc6-plugins-gtk.\n",
            "Preparing to unpack .../5-libgvc6-plugins-gtk_2.42.2-6ubuntu0.1_amd64.deb ...\n",
            "Unpacking libgvc6-plugins-gtk (2.42.2-6ubuntu0.1) ...\n",
            "Selecting previously unselected package libgraphviz-dev:amd64.\n",
            "Preparing to unpack .../6-libgraphviz-dev_2.42.2-6ubuntu0.1_amd64.deb ...\n",
            "Unpacking libgraphviz-dev:amd64 (2.42.2-6ubuntu0.1) ...\n",
            "Selecting previously unselected package libgtk2.0-bin.\n",
            "Preparing to unpack .../7-libgtk2.0-bin_2.24.33-2ubuntu2.1_amd64.deb ...\n",
            "Unpacking libgtk2.0-bin (2.24.33-2ubuntu2.1) ...\n",
            "Selecting previously unselected package librsvg2-common:amd64.\n",
            "Preparing to unpack .../8-librsvg2-common_2.52.5+dfsg-3ubuntu0.2_amd64.deb ...\n",
            "Unpacking librsvg2-common:amd64 (2.52.5+dfsg-3ubuntu0.2) ...\n",
            "Setting up libxdot4:amd64 (2.42.2-6ubuntu0.1) ...\n",
            "Setting up librsvg2-common:amd64 (2.52.5+dfsg-3ubuntu0.2) ...\n",
            "Setting up libgtk2.0-common (2.24.33-2ubuntu2.1) ...\n",
            "Setting up libgtk2.0-0:amd64 (2.24.33-2ubuntu2.1) ...\n",
            "Setting up libgvc6-plugins-gtk (2.42.2-6ubuntu0.1) ...\n",
            "Setting up libgail18:amd64 (2.24.33-2ubuntu2.1) ...\n",
            "Setting up libgtk2.0-bin (2.24.33-2ubuntu2.1) ...\n",
            "Setting up libgail-common:amd64 (2.24.33-2ubuntu2.1) ...\n",
            "Setting up libgraphviz-dev:amd64 (2.42.2-6ubuntu0.1) ...\n",
            "Processing triggers for libc-bin (2.35-0ubuntu3.8) ...\n",
            "/sbin/ldconfig.real: /usr/local/lib/libur_adapter_level_zero_v2.so.0 is not a symbolic link\n",
            "\n",
            "/sbin/ldconfig.real: /usr/local/lib/libtbbbind_2_0.so.3 is not a symbolic link\n",
            "\n",
            "/sbin/ldconfig.real: /usr/local/lib/libtbbmalloc_proxy.so.2 is not a symbolic link\n",
            "\n",
            "/sbin/ldconfig.real: /usr/local/lib/libtbb.so.12 is not a symbolic link\n",
            "\n",
            "/sbin/ldconfig.real: /usr/local/lib/libumf.so.0 is not a symbolic link\n",
            "\n",
            "/sbin/ldconfig.real: /usr/local/lib/libtcm_debug.so.1 is not a symbolic link\n",
            "\n",
            "/sbin/ldconfig.real: /usr/local/lib/libtbbmalloc.so.2 is not a symbolic link\n",
            "\n",
            "/sbin/ldconfig.real: /usr/local/lib/libur_loader.so.0 is not a symbolic link\n",
            "\n",
            "/sbin/ldconfig.real: /usr/local/lib/libur_adapter_opencl.so.0 is not a symbolic link\n",
            "\n",
            "/sbin/ldconfig.real: /usr/local/lib/libtbbbind.so.3 is not a symbolic link\n",
            "\n",
            "/sbin/ldconfig.real: /usr/local/lib/libur_adapter_level_zero.so.0 is not a symbolic link\n",
            "\n",
            "/sbin/ldconfig.real: /usr/local/lib/libhwloc.so.15 is not a symbolic link\n",
            "\n",
            "/sbin/ldconfig.real: /usr/local/lib/libtbbbind_2_5.so.3 is not a symbolic link\n",
            "\n",
            "/sbin/ldconfig.real: /usr/local/lib/libtcm.so.1 is not a symbolic link\n",
            "\n",
            "Processing triggers for man-db (2.10.2-1) ...\n",
            "Processing triggers for libgdk-pixbuf-2.0-0:amd64 (2.42.8+dfsg-1ubuntu0.3) ...\n"
          ]
        }
      ],
      "source": [
        "!sudo apt-get install -y graphviz-dev"
      ]
    },
    {
      "cell_type": "code",
      "execution_count": 2,
      "metadata": {
        "id": "FGGivX-aRRMh",
        "colab": {
          "base_uri": "https://localhost:8080/"
        },
        "outputId": "0133e1f2-788e-4e32-c98a-43c072ffc60a"
      },
      "outputs": [
        {
          "output_type": "stream",
          "name": "stdout",
          "text": [
            "\u001b[?25l     \u001b[90m━━━━━━━━━━━━━━━━━━━━━━━━━━━━━━━━━━━━━━━━\u001b[0m \u001b[32m0.0/106.0 kB\u001b[0m \u001b[31m?\u001b[0m eta \u001b[36m-:--:--\u001b[0m\r\u001b[2K     \u001b[91m━━━━━━━━━━━━━━━━━━━━━━━━━━━━━━━━━━━━━\u001b[0m\u001b[91m╸\u001b[0m\u001b[90m━\u001b[0m \u001b[32m102.4/106.0 kB\u001b[0m \u001b[31m4.2 MB/s\u001b[0m eta \u001b[36m0:00:01\u001b[0m\r\u001b[2K     \u001b[90m━━━━━━━━━━━━━━━━━━━━━━━━━━━━━━━━━━━━━━━\u001b[0m \u001b[32m106.0/106.0 kB\u001b[0m \u001b[31m2.6 MB/s\u001b[0m eta \u001b[36m0:00:00\u001b[0m\n",
            "\u001b[?25h  Installing build dependencies ... \u001b[?25l\u001b[?25hdone\n",
            "  Getting requirements to build wheel ... \u001b[?25l\u001b[?25hdone\n",
            "  Preparing metadata (pyproject.toml) ... \u001b[?25l\u001b[?25hdone\n",
            "\u001b[2K   \u001b[90m━━━━━━━━━━━━━━━━━━━━━━━━━━━━━━━━━━━━━━━━\u001b[0m \u001b[32m267.4/267.4 kB\u001b[0m \u001b[31m9.5 MB/s\u001b[0m eta \u001b[36m0:00:00\u001b[0m\n",
            "\u001b[2K   \u001b[90m━━━━━━━━━━━━━━━━━━━━━━━━━━━━━━━━━━━━━━━━\u001b[0m \u001b[32m80.8/80.8 kB\u001b[0m \u001b[31m5.1 MB/s\u001b[0m eta \u001b[36m0:00:00\u001b[0m\n",
            "\u001b[?25h  Building wheel for pygraphviz (pyproject.toml) ... \u001b[?25l\u001b[?25hdone\n"
          ]
        }
      ],
      "source": [
        "%pip install pygraphviz coloraide automata-lib --quiet"
      ]
    },
    {
      "cell_type": "markdown",
      "metadata": {
        "id": "im6UoS8hRRMi"
      },
      "source": [
        "<link rel=\"stylesheet\" href=\"https://stackpath.bootstrapcdn.com/bootstrap/4.5.2/css/bootstrap.min.css\">\n",
        "\n",
        "<div class=\"alert alert-info\" role=\"alert\">\n",
        "  <h5 class=\"alert-heading\">Import Libraries</h5>\n",
        "  <p>Run the below codeblock to import the Python libraries used in this notebook, as well as some functions used to check your solutions</p>\n",
        "</div>"
      ]
    },
    {
      "cell_type": "code",
      "execution_count": 3,
      "metadata": {
        "id": "YhsprVliRRMi"
      },
      "outputs": [],
      "source": [
        "# Import DFA and NFA objects from the automata library\n",
        "from automata.fa.dfa import DFA\n",
        "from automata.fa.nfa import NFA\n",
        "\n",
        "# Import hashlib for checking solutions\n",
        "from hashlib import md5\n",
        "from networkx import weisfeiler_lehman_graph_hash as wlhash, union_all\n",
        "check_soln = lambda soln, hash : md5(str(soln).encode(\"utf-8\")).hexdigest() == hash\n",
        "DFA_hash = lambda A: wlhash(union_all([G:=A._get_digraph(),((X:=G.copy()).remove_node(A.initial_state) or X),((X:=G.copy()).remove_nodes_from(A.final_states) or X)],rename=('G1#', 'G2#','G3#')))\n",
        "check_DFA_soln = lambda A, hash: DFA_hash(A.minify()) == hash\n",
        "\n",
        "# Feel free to import any additional libraries that you will find useful\n",
        "import itertools"
      ]
    },
    {
      "cell_type": "markdown",
      "metadata": {
        "id": "W_w-xoZERRMj"
      },
      "source": [
        "## Task 1"
      ]
    },
    {
      "cell_type": "markdown",
      "metadata": {
        "id": "4m-gUcGARRMj"
      },
      "source": [
        "#### Part 1.1\n",
        "Sketch (on paper) the DFA described below then run the the code block to check your answer."
      ]
    },
    {
      "cell_type": "code",
      "execution_count": 4,
      "metadata": {
        "id": "vp03i_K_RRMj",
        "colab": {
          "base_uri": "https://localhost:8080/",
          "height": 140
        },
        "outputId": "b645b7fa-027a-4de5-adbd-16f44cd270c7"
      },
      "outputs": [
        {
          "output_type": "execute_result",
          "data": {
            "image/svg+xml": "<?xml version=\"1.0\" encoding=\"UTF-8\" standalone=\"no\"?>\n<!DOCTYPE svg PUBLIC \"-//W3C//DTD SVG 1.1//EN\"\n \"http://www.w3.org/Graphics/SVG/1.1/DTD/svg11.dtd\">\n<!-- Generated by graphviz version 2.43.0 (0)\n -->\n<!-- Pages: 1 -->\n<svg width=\"334pt\" height=\"89pt\"\n viewBox=\"0.00 0.00 333.60 89.00\" xmlns=\"http://www.w3.org/2000/svg\" xmlns:xlink=\"http://www.w3.org/1999/xlink\">\n<g id=\"graph0\" class=\"graph\" transform=\"scale(1 1) rotate(0) translate(4 85)\">\n<polygon fill=\"white\" stroke=\"transparent\" points=\"-4,4 -4,-85 329.6,-85 329.6,4 -4,4\"/>\n<!-- 0396b949&#45;f2cc&#45;40b0&#45;88cd&#45;5752cc2c15a2 -->\n<g id=\"node1\" class=\"node\">\n<title>0396b949&#45;f2cc&#45;40b0&#45;88cd&#45;5752cc2c15a2</title>\n<g id=\"a_node1\"><a xlink:title=\".\">\n<ellipse fill=\"black\" stroke=\"black\" cx=\"1.8\" cy=\"-26\" rx=\"1.8\" ry=\"1.8\"/>\n</a>\n</g>\n</g>\n<!-- p -->\n<g id=\"node2\" class=\"node\">\n<title>p</title>\n<ellipse fill=\"none\" stroke=\"black\" cx=\"58.6\" cy=\"-26\" rx=\"18\" ry=\"18\"/>\n<text text-anchor=\"middle\" x=\"58.6\" y=\"-22.3\" font-family=\"Times,serif\" font-size=\"14.00\">p</text>\n</g>\n<!-- 0396b949&#45;f2cc&#45;40b0&#45;88cd&#45;5752cc2c15a2&#45;&gt;p -->\n<g id=\"edge1\" class=\"edge\">\n<title>0396b949&#45;f2cc&#45;40b0&#45;88cd&#45;5752cc2c15a2&#45;&gt;p</title>\n<g id=\"a_edge1\"><a xlink:title=\"&#45;&gt;p\">\n<path fill=\"none\" stroke=\"black\" d=\"M3.75,-26C7.25,-26 19.84,-26 31.96,-26\"/>\n<polygon fill=\"black\" stroke=\"black\" points=\"32.08,-28.98 40.58,-26 32.07,-23.03 32.08,-28.98\"/>\n</a>\n</g>\n</g>\n<!-- p&#45;&gt;p -->\n<g id=\"edge2\" class=\"edge\">\n<title>p&#45;&gt;p</title>\n<path fill=\"none\" stroke=\"black\" d=\"M52.22,-43.04C50.92,-52.86 53.05,-62 58.6,-62 62.42,-62 64.62,-57.68 65.19,-51.79\"/>\n<polygon fill=\"black\" stroke=\"black\" points=\"68.16,-51.46 64.98,-43.04 62.21,-51.61 68.16,-51.46\"/>\n<text text-anchor=\"middle\" x=\"58.6\" y=\"-65.8\" font-family=\"Times,serif\" font-size=\"14.00\">1</text>\n</g>\n<!-- q -->\n<g id=\"node3\" class=\"node\">\n<title>q</title>\n<ellipse fill=\"none\" stroke=\"black\" cx=\"137.6\" cy=\"-26\" rx=\"18\" ry=\"18\"/>\n<text text-anchor=\"middle\" x=\"137.6\" y=\"-22.3\" font-family=\"Times,serif\" font-size=\"14.00\">q</text>\n</g>\n<!-- p&#45;&gt;q -->\n<g id=\"edge3\" class=\"edge\">\n<title>p&#45;&gt;q</title>\n<path fill=\"none\" stroke=\"black\" d=\"M76.69,-26C86.76,-26 99.69,-26 110.96,-26\"/>\n<polygon fill=\"black\" stroke=\"black\" points=\"111.06,-28.98 119.56,-26 111.06,-23.03 111.06,-28.98\"/>\n<text text-anchor=\"middle\" x=\"98.1\" y=\"-29.8\" font-family=\"Times,serif\" font-size=\"14.00\">0</text>\n</g>\n<!-- q&#45;&gt;p -->\n<g id=\"edge4\" class=\"edge\">\n<title>q&#45;&gt;p</title>\n<path fill=\"none\" stroke=\"black\" d=\"M123.42,-14.86C115.36,-9.38 104.68,-4.44 94.6,-7 90.19,-8.12 85.73,-9.92 81.55,-11.98\"/>\n<polygon fill=\"black\" stroke=\"black\" points=\"79.95,-9.46 73.91,-16.13 82.8,-14.68 79.95,-9.46\"/>\n<text text-anchor=\"middle\" x=\"98.1\" y=\"-10.8\" font-family=\"Times,serif\" font-size=\"14.00\">1</text>\n</g>\n<!-- r -->\n<g id=\"node4\" class=\"node\">\n<title>r</title>\n<ellipse fill=\"none\" stroke=\"black\" cx=\"216.6\" cy=\"-26\" rx=\"18\" ry=\"18\"/>\n<text text-anchor=\"middle\" x=\"216.6\" y=\"-22.3\" font-family=\"Times,serif\" font-size=\"14.00\">r</text>\n</g>\n<!-- q&#45;&gt;r -->\n<g id=\"edge5\" class=\"edge\">\n<title>q&#45;&gt;r</title>\n<path fill=\"none\" stroke=\"black\" d=\"M155.69,-26C165.76,-26 178.69,-26 189.96,-26\"/>\n<polygon fill=\"black\" stroke=\"black\" points=\"190.06,-28.98 198.56,-26 190.06,-23.03 190.06,-28.98\"/>\n<text text-anchor=\"middle\" x=\"177.1\" y=\"-29.8\" font-family=\"Times,serif\" font-size=\"14.00\">0</text>\n</g>\n<!-- r&#45;&gt;r -->\n<g id=\"edge6\" class=\"edge\">\n<title>r&#45;&gt;r</title>\n<path fill=\"none\" stroke=\"black\" d=\"M209.87,-43.04C208.49,-52.86 210.74,-62 216.6,-62 220.63,-62 222.95,-57.68 223.56,-51.79\"/>\n<polygon fill=\"black\" stroke=\"black\" points=\"226.53,-51.46 223.33,-43.04 220.58,-51.61 226.53,-51.46\"/>\n<text text-anchor=\"middle\" x=\"216.6\" y=\"-65.8\" font-family=\"Times,serif\" font-size=\"14.00\">0</text>\n</g>\n<!-- s -->\n<g id=\"node5\" class=\"node\">\n<title>s</title>\n<ellipse fill=\"none\" stroke=\"black\" cx=\"299.6\" cy=\"-26\" rx=\"22\" ry=\"22\"/>\n<ellipse fill=\"none\" stroke=\"black\" cx=\"299.6\" cy=\"-26\" rx=\"26\" ry=\"26\"/>\n<text text-anchor=\"middle\" x=\"299.6\" y=\"-22.3\" font-family=\"Times,serif\" font-size=\"14.00\">s</text>\n</g>\n<!-- r&#45;&gt;s -->\n<g id=\"edge7\" class=\"edge\">\n<title>r&#45;&gt;s</title>\n<path fill=\"none\" stroke=\"black\" d=\"M234.78,-26C244.6,-26 257.19,-26 268.6,-26\"/>\n<polygon fill=\"black\" stroke=\"black\" points=\"268.91,-28.98 277.41,-26 268.91,-23.03 268.91,-28.98\"/>\n<text text-anchor=\"middle\" x=\"256.1\" y=\"-29.8\" font-family=\"Times,serif\" font-size=\"14.00\">1</text>\n</g>\n<!-- s&#45;&gt;s -->\n<g id=\"edge8\" class=\"edge\">\n<title>s&#45;&gt;s</title>\n<path fill=\"none\" stroke=\"black\" d=\"M291.92,-46.99C290.97,-57.09 293.53,-66 299.6,-66 303.77,-66 306.29,-61.79 307.14,-55.87\"/>\n<polygon fill=\"black\" stroke=\"black\" points=\"310.12,-55.54 307.28,-46.99 304.17,-55.44 310.12,-55.54\"/>\n<text text-anchor=\"middle\" x=\"299.6\" y=\"-69.8\" font-family=\"Times,serif\" font-size=\"14.00\">0,1</text>\n</g>\n</g>\n</svg>\n",
            "text/plain": [
              "<AGraph <Swig Object of type 'Agraph_t *' at 0x786d12616e20>>"
            ]
          },
          "metadata": {},
          "execution_count": 4
        }
      ],
      "source": [
        "## You do not need to edit this code block; just run it\n",
        "A = DFA(input_symbols={'0','1'},\n",
        "\t\tstates = {'p','q','r','s'},\n",
        "\t\tinitial_state='p',\n",
        "\t\tfinal_states = {'s'},\n",
        "\t\ttransitions = {\n",
        "\t\t\t'p': {'0': 'q', '1':'p'},\n",
        "\t\t\t'q': {'0':'r', '1':'p'},\n",
        "\t\t\t'r': {'0':'r', '1':'s'},\n",
        "            's': {'0':'s', '1':'s'},\n",
        "\t\t})\n",
        "\n",
        "# run this block to view DFA\n",
        "A.show_diagram()"
      ]
    },
    {
      "cell_type": "markdown",
      "metadata": {
        "id": "r6l9qRi0RRMk"
      },
      "source": [
        "#### Part 1.2\n",
        "Identify 5 input words that are accepted by A and 5 input words that are rejected by A"
      ]
    },
    {
      "cell_type": "code",
      "execution_count": 14,
      "metadata": {
        "id": "rKV--P6XRRMk"
      },
      "outputs": [],
      "source": [
        "## Edit ##\n",
        "accepted_words = ['001', '10001', '111111001', '000000001', '0101010100110100101'] # add words to list\n",
        "rejected_words = ['111111111', '000000000', '111111100000', '1010101010', '101'] # add words to list"
      ]
    },
    {
      "cell_type": "markdown",
      "metadata": {
        "id": "l9zgVjiURRMl"
      },
      "source": [
        "<link rel=\"stylesheet\" href=\"https://stackpath.bootstrapcdn.com/bootstrap/4.5.2/css/bootstrap.min.css\">\n",
        "\n",
        "<div class=\"alert alert-warning\" role=\"alert\">\n",
        "  <h5 class=\"alert-heading\">Testing</h5>\n",
        "  <p>Run the below codeblock to test your solutions.</p>\n",
        "</div>"
      ]
    },
    {
      "cell_type": "code",
      "execution_count": 15,
      "metadata": {
        "id": "zLkFTGj9RRMl"
      },
      "outputs": [],
      "source": [
        "## Do not edit ##\n",
        "assert isinstance(A,DFA), \"Your proposed automaton 'A' is not of type DFA\"\n",
        "assert len(set(accepted_words))>=5, \"'accepted_words' did not contain enough distinct values\"\n",
        "assert all(A.accepts_input(w) for w in accepted_words), \"Some words from 'accepted_words' were not accepted\"\n",
        "assert len(set(rejected_words))>=5, \"'rejected_words' did not contain enough distinct values\"\n",
        "assert all(not A.accepts_input(w) for w in rejected_words), \"Some words from 'rejected_words' were not rejected\""
      ]
    },
    {
      "cell_type": "markdown",
      "metadata": {
        "id": "t2eG710FRRMm"
      },
      "source": [
        "#### Part 1.3\n",
        "Describe the language that is decided by this DFA."
      ]
    },
    {
      "cell_type": "code",
      "execution_count": 16,
      "metadata": {
        "id": "oh2NeJirRRMn",
        "colab": {
          "base_uri": "https://localhost:8080/",
          "height": 35
        },
        "outputId": "b19d437d-1995-48ba-f14c-f8d3d22c2db7"
      },
      "outputs": [
        {
          "output_type": "execute_result",
          "data": {
            "text/plain": [
              "'\\n\\n\\n'"
            ],
            "application/vnd.google.colaboratory.intrinsic+json": {
              "type": "string"
            }
          },
          "metadata": {},
          "execution_count": 16
        }
      ],
      "source": [
        "## Nothing to code for this part but feel free to write your answers here for reference\n",
        "'''\n",
        "\n",
        "\n",
        "'''"
      ]
    },
    {
      "cell_type": "markdown",
      "metadata": {
        "id": "5z6EWP6zRRMn"
      },
      "source": [
        "# Task 2\n",
        "Consider the following DFA:"
      ]
    },
    {
      "cell_type": "code",
      "execution_count": 17,
      "metadata": {
        "id": "8mpApa5yRRMn",
        "colab": {
          "base_uri": "https://localhost:8080/",
          "height": 160
        },
        "outputId": "9eeb59c3-755a-434a-8b2e-0ff8761d981a"
      },
      "outputs": [
        {
          "output_type": "execute_result",
          "data": {
            "image/svg+xml": "<?xml version=\"1.0\" encoding=\"UTF-8\" standalone=\"no\"?>\n<!DOCTYPE svg PUBLIC \"-//W3C//DTD SVG 1.1//EN\"\n \"http://www.w3.org/Graphics/SVG/1.1/DTD/svg11.dtd\">\n<!-- Generated by graphviz version 2.43.0 (0)\n -->\n<!-- Pages: 1 -->\n<svg width=\"342pt\" height=\"104pt\"\n viewBox=\"0.00 0.00 341.60 104.00\" xmlns=\"http://www.w3.org/2000/svg\" xmlns:xlink=\"http://www.w3.org/1999/xlink\">\n<g id=\"graph0\" class=\"graph\" transform=\"scale(1 1) rotate(0) translate(4 100)\">\n<polygon fill=\"white\" stroke=\"transparent\" points=\"-4,4 -4,-100 337.6,-100 337.6,4 -4,4\"/>\n<!-- 66396ae6&#45;2f02&#45;4a4f&#45;9815&#45;22f100ab4795 -->\n<g id=\"node1\" class=\"node\">\n<title>66396ae6&#45;2f02&#45;4a4f&#45;9815&#45;22f100ab4795</title>\n<g id=\"a_node1\"><a xlink:title=\".\">\n<ellipse fill=\"black\" stroke=\"black\" cx=\"1.8\" cy=\"-26\" rx=\"1.8\" ry=\"1.8\"/>\n</a>\n</g>\n</g>\n<!-- p -->\n<g id=\"node2\" class=\"node\">\n<title>p</title>\n<ellipse fill=\"none\" stroke=\"black\" cx=\"58.6\" cy=\"-26\" rx=\"18\" ry=\"18\"/>\n<text text-anchor=\"middle\" x=\"58.6\" y=\"-22.3\" font-family=\"Times,serif\" font-size=\"14.00\">p</text>\n</g>\n<!-- 66396ae6&#45;2f02&#45;4a4f&#45;9815&#45;22f100ab4795&#45;&gt;p -->\n<g id=\"edge1\" class=\"edge\">\n<title>66396ae6&#45;2f02&#45;4a4f&#45;9815&#45;22f100ab4795&#45;&gt;p</title>\n<g id=\"a_edge1\"><a xlink:title=\"&#45;&gt;p\">\n<path fill=\"none\" stroke=\"black\" d=\"M3.75,-26C7.25,-26 19.84,-26 31.96,-26\"/>\n<polygon fill=\"black\" stroke=\"black\" points=\"32.08,-28.98 40.58,-26 32.07,-23.03 32.08,-28.98\"/>\n</a>\n</g>\n</g>\n<!-- r -->\n<g id=\"node3\" class=\"node\">\n<title>r</title>\n<ellipse fill=\"none\" stroke=\"black\" cx=\"141.6\" cy=\"-70\" rx=\"22\" ry=\"22\"/>\n<ellipse fill=\"none\" stroke=\"black\" cx=\"141.6\" cy=\"-70\" rx=\"26\" ry=\"26\"/>\n<text text-anchor=\"middle\" x=\"141.6\" y=\"-66.3\" font-family=\"Times,serif\" font-size=\"14.00\">r</text>\n</g>\n<!-- p&#45;&gt;r -->\n<g id=\"edge2\" class=\"edge\">\n<title>p&#45;&gt;r</title>\n<path fill=\"none\" stroke=\"black\" d=\"M70.96,-39.68C77.27,-46.44 85.64,-54.16 94.6,-59 99.62,-61.72 105.32,-63.77 110.94,-65.31\"/>\n<polygon fill=\"black\" stroke=\"black\" points=\"110.66,-68.31 119.62,-67.36 112.03,-62.51 110.66,-68.31\"/>\n<text text-anchor=\"middle\" x=\"98.1\" y=\"-65.8\" font-family=\"Times,serif\" font-size=\"14.00\">1</text>\n</g>\n<!-- q -->\n<g id=\"node4\" class=\"node\">\n<title>q</title>\n<ellipse fill=\"none\" stroke=\"black\" cx=\"307.6\" cy=\"-26\" rx=\"22\" ry=\"22\"/>\n<ellipse fill=\"none\" stroke=\"black\" cx=\"307.6\" cy=\"-26\" rx=\"26\" ry=\"26\"/>\n<text text-anchor=\"middle\" x=\"307.6\" y=\"-22.3\" font-family=\"Times,serif\" font-size=\"14.00\">q</text>\n</g>\n<!-- p&#45;&gt;q -->\n<g id=\"edge3\" class=\"edge\">\n<title>p&#45;&gt;q</title>\n<path fill=\"none\" stroke=\"black\" d=\"M76.97,-26C118.61,-26 224.54,-26 276.68,-26\"/>\n<polygon fill=\"black\" stroke=\"black\" points=\"276.97,-28.98 285.47,-26 276.97,-23.03 276.97,-28.98\"/>\n<text text-anchor=\"middle\" x=\"185.1\" y=\"-29.8\" font-family=\"Times,serif\" font-size=\"14.00\">0</text>\n</g>\n<!-- r&#45;&gt;p -->\n<g id=\"edge4\" class=\"edge\">\n<title>r&#45;&gt;p</title>\n<path fill=\"none\" stroke=\"black\" d=\"M124.73,-55.86C117.96,-50.35 109.75,-44.33 101.6,-40 96.31,-37.19 90.35,-34.79 84.61,-32.81\"/>\n<polygon fill=\"black\" stroke=\"black\" points=\"85.48,-29.97 76.48,-30.23 83.68,-35.64 85.48,-29.97\"/>\n<text text-anchor=\"middle\" x=\"98.1\" y=\"-43.8\" font-family=\"Times,serif\" font-size=\"14.00\">1</text>\n</g>\n<!-- s -->\n<g id=\"node5\" class=\"node\">\n<title>s</title>\n<ellipse fill=\"none\" stroke=\"black\" cx=\"224.6\" cy=\"-68\" rx=\"18\" ry=\"18\"/>\n<text text-anchor=\"middle\" x=\"224.6\" y=\"-64.3\" font-family=\"Times,serif\" font-size=\"14.00\">s</text>\n</g>\n<!-- r&#45;&gt;s -->\n<g id=\"edge5\" class=\"edge\">\n<title>r&#45;&gt;s</title>\n<path fill=\"none\" stroke=\"black\" d=\"M163.88,-69.47C174.28,-69.22 186.88,-68.91 197.82,-68.64\"/>\n<polygon fill=\"black\" stroke=\"black\" points=\"198.12,-71.6 206.54,-68.42 197.97,-65.66 198.12,-71.6\"/>\n<text text-anchor=\"middle\" x=\"185.1\" y=\"-72.8\" font-family=\"Times,serif\" font-size=\"14.00\">0</text>\n</g>\n<!-- q&#45;&gt;p -->\n<g id=\"edge6\" class=\"edge\">\n<title>q&#45;&gt;p</title>\n<path fill=\"none\" stroke=\"black\" d=\"M285.83,-21.62C262.36,-16.92 222.94,-9.75 188.6,-7 152.27,-4.09 110.61,-12.36 84.69,-18.89\"/>\n<polygon fill=\"black\" stroke=\"black\" points=\"83.69,-16.08 76.22,-21.11 85.19,-21.84 83.69,-16.08\"/>\n<text text-anchor=\"middle\" x=\"185.1\" y=\"-10.8\" font-family=\"Times,serif\" font-size=\"14.00\">0</text>\n</g>\n<!-- q&#45;&gt;s -->\n<g id=\"edge7\" class=\"edge\">\n<title>q&#45;&gt;s</title>\n<path fill=\"none\" stroke=\"black\" d=\"M285.79,-30.54C277.66,-32.77 268.43,-35.87 260.6,-40 255.23,-42.83 249.89,-46.53 245.06,-50.31\"/>\n<polygon fill=\"black\" stroke=\"black\" points=\"243.05,-48.11 238.39,-55.81 246.84,-52.7 243.05,-48.11\"/>\n<text text-anchor=\"middle\" x=\"264.1\" y=\"-43.8\" font-family=\"Times,serif\" font-size=\"14.00\">1</text>\n</g>\n<!-- s&#45;&gt;r -->\n<g id=\"edge8\" class=\"edge\">\n<title>s&#45;&gt;r</title>\n<path fill=\"none\" stroke=\"black\" d=\"M209.11,-58.59C201.15,-54.5 191,-51.04 181.6,-53 177.56,-53.84 173.43,-55.12 169.44,-56.62\"/>\n<polygon fill=\"black\" stroke=\"black\" points=\"168.23,-53.89 161.52,-59.9 170.51,-59.39 168.23,-53.89\"/>\n<text text-anchor=\"middle\" x=\"185.1\" y=\"-56.8\" font-family=\"Times,serif\" font-size=\"14.00\">0</text>\n</g>\n<!-- s&#45;&gt;q -->\n<g id=\"edge9\" class=\"edge\">\n<title>s&#45;&gt;q</title>\n<path fill=\"none\" stroke=\"black\" d=\"M242.58,-66.29C250.48,-65.02 259.84,-62.81 267.6,-59 273.76,-55.98 279.75,-51.77 285.12,-47.36\"/>\n<polygon fill=\"black\" stroke=\"black\" points=\"287.1,-49.58 291.56,-41.76 283.19,-45.1 287.1,-49.58\"/>\n<text text-anchor=\"middle\" x=\"264.1\" y=\"-64.8\" font-family=\"Times,serif\" font-size=\"14.00\">1</text>\n</g>\n</g>\n</svg>\n",
            "text/plain": [
              "<AGraph <Swig Object of type 'Agraph_t *' at 0x786d12616dc0>>"
            ]
          },
          "metadata": {},
          "execution_count": 17
        }
      ],
      "source": [
        "## Do not edit ##\n",
        "dfa = DFA(states = {'p','q','r','s'},\n",
        "\t\t  initial_state='p',\n",
        "\t\t  final_states = {'q','r'},\n",
        "\t\t  input_symbols={'1','0'}, # Note: the input symbols must be strings not integers\n",
        "\t\t  transitions = {\n",
        "\t\t\t  'p': {'0': 'q', '1': 'r'},\n",
        "\t\t\t  'q': {'0': 'p', '1': 's'},\n",
        "\t\t\t  'r': {'0': 's', '1': 'p'},\n",
        "              's': {'0': 'r', '1': 'q'}\n",
        "\t\t  }\n",
        "\t\t  )\n",
        "\n",
        "dfa.show_diagram()"
      ]
    },
    {
      "cell_type": "markdown",
      "metadata": {
        "id": "B1MbQTlMRRMn"
      },
      "source": [
        "#### Part 2.1\n",
        "Write down the sequence of states that are visisted during the computations of this automaton, on the following input words:\n",
        "- `11101`\n",
        "- `10011`\n",
        "- `01011`"
      ]
    },
    {
      "cell_type": "code",
      "execution_count": 27,
      "metadata": {
        "id": "OAacCJHdRRMo",
        "colab": {
          "base_uri": "https://localhost:8080/"
        },
        "outputId": "d4cbe73a-22ba-434d-ced1-c0175f126315"
      },
      "outputs": [
        {
          "output_type": "stream",
          "name": "stdout",
          "text": [
            "['p', 'r', 'p', 'r', 's', 'q']\n"
          ]
        }
      ],
      "source": [
        "## Edit ##\n",
        "input_11101= list('prprsq') # complete the computation\n",
        "# ['p','r','p','r','s','q']\n",
        "input_10011 = list('prsrpr')\t\t# complete the computation\n",
        "input_01011 = list('pqsrpr')\t# complete the computation\n",
        "\n",
        "# print(input_11101)"
      ]
    },
    {
      "cell_type": "code",
      "execution_count": 28,
      "metadata": {
        "id": "RUdSmf8tRRMo"
      },
      "outputs": [],
      "source": [
        "## Do not edit ##\n",
        "assert check_soln(input_11101,'b72b85d1a17eb6bb74ca3dd063e85570'),  \"Your sequence of states for input_11101 was not correct\"\n",
        "assert check_soln(input_10011,'0fbcbec2b2039bdfe8d6c95b77b69b2b'),  \"Your sequence of states for input_10011 was not correct\"\n",
        "assert check_soln(input_01011,'49d3c6d47999509b36de033b8290dc1d'),  \"Your sequence of states for input_01011 was not correct\""
      ]
    },
    {
      "cell_type": "markdown",
      "metadata": {
        "id": "yHlZURUURRMo"
      },
      "source": [
        "### Part 2.2\n",
        "Describe the language that is decided by this DFA."
      ]
    },
    {
      "cell_type": "code",
      "execution_count": null,
      "metadata": {
        "id": "S6DKh3QNRRMo"
      },
      "outputs": [],
      "source": [
        "## Nothing to code for this part but feel free to write your answers here for reference\n",
        "'''\n",
        "\n",
        "\n",
        "'''"
      ]
    },
    {
      "cell_type": "markdown",
      "metadata": {
        "id": "yFrVWK-JRRMp"
      },
      "source": [
        "# Task 3\n",
        "Let $\\Sigma=\\{0,1\\}$ be a binary alphabet. For each of the following languages $L$, construct a DFA that decides $L$:"
      ]
    },
    {
      "cell_type": "markdown",
      "metadata": {
        "id": "o6NaoNxJRRMp"
      },
      "source": [
        "### Part 3.1\n",
        "$$L = \\{w: \\in \\Sigma^\\ast : w \\text{ contains an even number of 0s or exactly two 1s}\\}$$"
      ]
    },
    {
      "cell_type": "code",
      "execution_count": null,
      "metadata": {
        "id": "FjNkYR7BRRMp"
      },
      "outputs": [],
      "source": [
        "## Edit ##\n",
        "dfa1 = DFA(\n",
        "\tstates = {},\n",
        "\tinitial_state = ,\n",
        "\tfinal_states={},\n",
        "\tinput_symbols={},\n",
        "\ttransitions = {\n",
        "\n",
        "\t}\n",
        "\n",
        ")\n",
        "\n",
        "dfa1.show_diagram()"
      ]
    },
    {
      "cell_type": "code",
      "execution_count": null,
      "metadata": {
        "id": "L1SbvtcPRRMq"
      },
      "outputs": [],
      "source": [
        "## Do not edit ##\n",
        "accepted_words = ['','1','100100','00010','00011','0100011']\n",
        "rejected_words = ['00000','001000','0010','10','0','000100']\n",
        "\n",
        "assert isinstance(dfa1,DFA), \"Your proposed automaton 'dfa1' is not of type DFA\"\n",
        "assert all(dfa1.accepts_input(w) for w in accepted_words), \"Your proposed DFA fails to accept some of the accepted_words\"\n",
        "assert all(not dfa1.accepts_input(w) for w in rejected_words), \"Your proposed DFA fails to reject some of the rejected words\""
      ]
    },
    {
      "cell_type": "markdown",
      "metadata": {
        "id": "TfSlXTtCRRMq"
      },
      "source": [
        "### Part 3.2\n",
        "$$L = \\{w \\in \\Sigma^\\ast : \\text{the penultimate (second to last) digit of } w \\text{ is a 1}\\}$$"
      ]
    },
    {
      "cell_type": "code",
      "execution_count": null,
      "metadata": {
        "id": "4Mj_EXk1RRMq"
      },
      "outputs": [],
      "source": [
        "## Edit ##\n",
        "dfa2 = DFA(\n",
        "\tstates = {},\n",
        "\tinitial_state = ,\n",
        "\tfinal_states={},\n",
        "\tinput_symbols={},\n",
        "\ttransitions = {\n",
        "\n",
        "\t}\n",
        "\n",
        ")\n",
        "\n",
        "dfa2.show_diagram()"
      ]
    },
    {
      "cell_type": "code",
      "execution_count": null,
      "metadata": {
        "id": "ybZ0U8NpRRMq"
      },
      "outputs": [],
      "source": [
        "## Do not edit\n",
        "accepted_words = ['11111','000010', '101010','1100110','010010','01110110']\n",
        "rejected_words = ['10001', '110001','111001','1010100','10110000','1100000']\n",
        "\n",
        "assert isinstance(dfa2,DFA), \"Your proposed automaton 'dfa2' is not of type DFA\"\n",
        "assert all(dfa2.accepts_input(w) for w in accepted_words), \"Your proposed DFA fails to accept some of the accepted_words\"\n",
        "assert all(not dfa2.accepts_input(w) for w in rejected_words), \"Your proposed DFA fails to reject some of the rejected words\""
      ]
    },
    {
      "cell_type": "markdown",
      "metadata": {
        "id": "8-FqKibmRRMq"
      },
      "source": [
        "#### Part 3.3\n",
        "$$ L = \\{w \\in \\Sigma^\\ast : \\text{ encodes a multiple of 5 in binary}\\}.$$"
      ]
    },
    {
      "cell_type": "markdown",
      "metadata": {
        "id": "k9OuM_epRRMr"
      },
      "source": [
        "<link rel=\"stylesheet\" href=\"https://stackpath.bootstrapcdn.com/bootstrap/4.5.2/css/bootstrap.min.css\">\n",
        "\n",
        "<div class=\"alert alert-info\" role=\"alert\">\n",
        "  <p><strong>Hint</strong> Consider how the addition of an extra 0 or 1 changes the remainder of the number modulo 5.</p>\n",
        "</div>"
      ]
    },
    {
      "cell_type": "code",
      "execution_count": null,
      "metadata": {
        "id": "CkFSQp8eRRMr"
      },
      "outputs": [],
      "source": [
        "dfa3 = DFA(\n",
        "\tstates = {},\n",
        "\tinitial_state =,\n",
        "\tfinal_states={},\n",
        "\tinput_symbols={},\n",
        "\ttransitions = {\n",
        "\n",
        "\t}\n",
        "\n",
        ")\n",
        "\n",
        "dfa3.show_diagram()"
      ]
    },
    {
      "cell_type": "code",
      "execution_count": null,
      "metadata": {
        "id": "T43F11CORRMs"
      },
      "outputs": [],
      "source": [
        "## Tests for langauges of all binary strings that encode multiples of five\n",
        "accepted_words = ['101101','110010', '10011011','1000001','111100','10100101']\n",
        "rejected_words = ['100101', '110011','111001','1010110','10110010','1100000']\n",
        "\n",
        "assert isinstance(dfa3,DFA), \"Your proposed automaton 'dfa1' is not of type DFA\"\n",
        "assert all(dfa3.accepts_input(w) for w in accepted_words), \"Your proposed DFA fails to accept some of the accepted_words\"\n",
        "assert all(not dfa3.accepts_input(w) for w in rejected_words), \"Your proposed DFA fails to reject some of the rejected words\""
      ]
    },
    {
      "cell_type": "markdown",
      "metadata": {
        "id": "iTRRbPWXRRMs"
      },
      "source": [
        "# Task 4"
      ]
    },
    {
      "cell_type": "markdown",
      "metadata": {
        "id": "XhyD9FinRRMs"
      },
      "source": [
        "#### Part 4.1\n",
        "Complete the function `dfa_complement` which takes as input a DFA $A$ and returns a new DFA $B$ whose language is the complement of $A$'s language. i.e.\n",
        "$$ \\mathsf{Language}(B) = \\Sigma^\\ast - \\mathsf{Language}(A)$$"
      ]
    },
    {
      "cell_type": "code",
      "execution_count": null,
      "metadata": {
        "id": "NyPEv7XiRRMs"
      },
      "outputs": [],
      "source": [
        "## Edit ##\n",
        "def dfa_complement(A: DFA) -> DFA:\n",
        "    B = DFA(\n",
        "        states          = ,\n",
        "        initial_state   = ,\n",
        "        final_states    = ,\n",
        "        input_symbols   = ,\n",
        "        transitions     =\n",
        "    )\n",
        "\n",
        "    return B"
      ]
    },
    {
      "cell_type": "code",
      "execution_count": null,
      "metadata": {
        "id": "-C7Rr5kORRMs"
      },
      "outputs": [],
      "source": [
        "## Do not edit ##\n",
        "A = DFA(\n",
        "        states          = {'p','q','r'},\n",
        "        initial_state   = 'p',\n",
        "        final_states    = {'p'},\n",
        "        input_symbols   = {'0','1'},\n",
        "        transitions     = {\n",
        "            'p': {'0': 'p', '1': 'q'},\n",
        "            'q': {'0': 'r', '1': 'p'},\n",
        "            'r': {'0': 'q', '1': 'r'},\n",
        "        }\n",
        "    )\n",
        "\n",
        "DFA_hash(dfa_complement(A).minify())\n",
        "assert check_DFA_soln(dfa_complement(A), 'e96dc63288a373765c967b98fc3c0ac7'), \"Your function does not appear to be correct\""
      ]
    },
    {
      "cell_type": "markdown",
      "metadata": {
        "id": "vz955grlRRMs"
      },
      "source": [
        "#### Part 4.2\n",
        "(tricky) Complete the function `dfa_intersection` which takes as input two DFAs $A$ and $B$ and returns a new DFA $C$ whose language is the intersection of the languages of $A$ and $B$. i.e.\n",
        "$$ \\mathsf{Language}(C) = \\mathsf{Language}(A) \\cap \\mathsf{Language}(B)$$"
      ]
    },
    {
      "cell_type": "code",
      "execution_count": null,
      "metadata": {
        "id": "c08vZSKQRRMt"
      },
      "outputs": [],
      "source": [
        "## Edit ##\n",
        "def dfa_intersection(A: DFA, B: DFA) -> DFA:\n",
        "\tassert A.input_symbols == B.input_symbols, \"Input DFAs should have the same alphabet\"\n",
        "\tinput_symbols = A.input_symbols\n",
        "\n",
        "\n",
        "\tC = DFA(\n",
        "\t\tstates\t\t\t= ,\n",
        "\t\tinitial_state\t= ,\n",
        "\t\tfinal_states\t= ,\n",
        "\t\tinput_symbols\t= input_symbols,\n",
        "\t\ttransitions\t\t=\n",
        "\t)\n",
        "\n",
        "\treturn C"
      ]
    },
    {
      "cell_type": "code",
      "execution_count": null,
      "metadata": {
        "id": "8Sf0SNqtRRMt"
      },
      "outputs": [],
      "source": [
        "## Do not edit ##\n",
        "A = DFA(\n",
        "        states          = {'p','q','r'},\n",
        "        initial_state   = 'p',\n",
        "        final_states    = {'p'},\n",
        "        input_symbols   = {'0','1'},\n",
        "        transitions     = {\n",
        "            'p': {'0': 'p', '1': 'q'},\n",
        "            'q': {'0': 'r', '1': 'p'},\n",
        "            'r': {'0': 'q', '1': 'r'},\n",
        "        }\n",
        "    )\n",
        "\n",
        "B = DFA(\n",
        "        states          = {'x','y','z'},\n",
        "        initial_state   = 'x',\n",
        "        final_states    = {'z'},\n",
        "        input_symbols   = {'0','1'},\n",
        "        transitions     = {\n",
        "            'x': {'0': 'x', '1': 'y'},\n",
        "            'y': {'0': 'y', '1': 'z'},\n",
        "            'z': {'0': 'z', '1': 'x'},\n",
        "        }\n",
        "    )\n",
        "\n",
        "\n",
        "assert check_DFA_soln(dfa_intersection(A,B), '4edc16f6153041120aee3de102b7f446'), \"Your function does not appear to be correct\""
      ]
    },
    {
      "cell_type": "markdown",
      "metadata": {
        "id": "7Yt_gdRORRMt"
      },
      "source": [
        "#### Part 4.3\n",
        "Use yoru previously designed functions to complete the function `dfa_union` which takes as input two DFAs $A$ and $B$ and returns a new DFA $C$ whose language is the union of the languages of $A$ and $B$. i.e.\n",
        "$$ \\mathsf{Language}(C) = \\mathsf{Language}(A) \\cup \\mathsf{Language}(B)$$"
      ]
    },
    {
      "cell_type": "code",
      "execution_count": null,
      "metadata": {
        "id": "bwooEtk1RRMt"
      },
      "outputs": [],
      "source": [
        "## Edit ##\n",
        "def dfa_union(A: DFA, B: DFA) -> DFA:\n",
        "\n",
        "    return"
      ]
    },
    {
      "cell_type": "code",
      "execution_count": null,
      "metadata": {
        "id": "QfQVP_b1RRMu"
      },
      "outputs": [],
      "source": [
        "## Do not edit ##\n",
        "A = DFA(\n",
        "        states          = {'p','q','r'},\n",
        "        initial_state   = 'p',\n",
        "        final_states    = {'p'},\n",
        "        input_symbols   = {'0','1'},\n",
        "        transitions     = {\n",
        "            'p': {'0': 'p', '1': 'q'},\n",
        "            'q': {'0': 'r', '1': 'p'},\n",
        "            'r': {'0': 'q', '1': 'r'},\n",
        "        }\n",
        "    )\n",
        "\n",
        "B = DFA(\n",
        "        states          = {'x','y','z'},\n",
        "        initial_state   = 'x',\n",
        "        final_states    = {'z'},\n",
        "        input_symbols   = {'0','1'},\n",
        "        transitions     = {\n",
        "            'x': {'0': 'x', '1': 'y'},\n",
        "            'y': {'0': 'y', '1': 'z'},\n",
        "            'z': {'0': 'z', '1': 'x'},\n",
        "        }\n",
        "    )\n",
        "\n",
        "\n",
        "assert check_DFA_soln(dfa_union(A,B), 'b7852282cdbe68d925665ab9f3cf588b'), \"Your function does not appear to be correct\""
      ]
    },
    {
      "cell_type": "markdown",
      "metadata": {
        "id": "Vc-_uST-RRMu"
      },
      "source": [
        "<link rel=\"stylesheet\" href=\"https://stackpath.bootstrapcdn.com/bootstrap/4.5.2/css/bootstrap.min.css\">\n",
        "\n",
        "\n",
        "<div class=\"alert alert-success\" role=\"alert\">\n",
        "  <h5 class=\"alert-heading\">Congratulations!</h5>\n",
        "  <p>Well done on making it to the end of the notebook!</p>\n",
        "</div>\n"
      ]
    }
  ],
  "metadata": {
    "kernelspec": {
      "display_name": "Python 3",
      "language": "python",
      "name": "python3"
    },
    "language_info": {
      "codemirror_mode": {
        "name": "ipython",
        "version": 3
      },
      "file_extension": ".py",
      "mimetype": "text/x-python",
      "name": "python",
      "nbconvert_exporter": "python",
      "pygments_lexer": "ipython3",
      "version": "3.12.5"
    },
    "colab": {
      "provenance": []
    }
  },
  "nbformat": 4,
  "nbformat_minor": 0
}